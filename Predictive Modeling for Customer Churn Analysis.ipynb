{
 "cells": [
  {
   "cell_type": "markdown",
   "id": "6c427926",
   "metadata": {},
   "source": [
    "## Predictive Modeling for Customer Churn Analysis"
   ]
  },
  {
   "cell_type": "code",
   "execution_count": 1,
   "id": "fb781142",
   "metadata": {},
   "outputs": [],
   "source": [
    "import numpy as np # linear algebra\n",
    "import pandas as pd # data processing, CSV file I/O (e.g. pd.read_csv)\n",
    "\n",
    "# Input data files are available in the read-only \"../input/\" directory\n",
    "# For example, running this (by clicking run or pressing Shift+Enter) will list all files under the input directory\n",
    "\n",
    "import os\n",
    "for dirname, _, filenames in os.walk('/kaggle/input'):\n",
    "    for filename in filenames:\n",
    "        print(os.path.join(dirname, filename))"
   ]
  },
  {
   "cell_type": "code",
   "execution_count": 2,
   "id": "45635537",
   "metadata": {},
   "outputs": [],
   "source": [
    "import pandas as pd              # For data manipulation and analysis\n",
    "import numpy as np               # For numerical operations\n",
    "from sklearn.model_selection import train_test_split  # For splitting the dataset into training and testing sets\n",
    "from sklearn import linear_model  # For using the linear regression model\n",
    "import matplotlib.pyplot as plt  # For data visualiza"
   ]
  },
  {
   "cell_type": "code",
   "execution_count": 3,
   "id": "494d7f4e",
   "metadata": {},
   "outputs": [
    {
     "data": {
      "text/html": [
       "<div>\n",
       "<style scoped>\n",
       "    .dataframe tbody tr th:only-of-type {\n",
       "        vertical-align: middle;\n",
       "    }\n",
       "\n",
       "    .dataframe tbody tr th {\n",
       "        vertical-align: top;\n",
       "    }\n",
       "\n",
       "    .dataframe thead th {\n",
       "        text-align: right;\n",
       "    }\n",
       "</style>\n",
       "<table border=\"1\" class=\"dataframe\">\n",
       "  <thead>\n",
       "    <tr style=\"text-align: right;\">\n",
       "      <th></th>\n",
       "      <th>Record_ID</th>\n",
       "      <th>Auction_ID</th>\n",
       "      <th>Bidder_ID</th>\n",
       "      <th>Bidder_Tendency</th>\n",
       "      <th>Bidding_Ratio</th>\n",
       "      <th>Successive_Outbidding</th>\n",
       "      <th>Last_Bidding</th>\n",
       "      <th>Auction_Bids</th>\n",
       "      <th>Starting_Price_Average</th>\n",
       "      <th>Early_Bidding</th>\n",
       "      <th>Winning_Ratio</th>\n",
       "      <th>Auction_Duration</th>\n",
       "      <th>Class</th>\n",
       "    </tr>\n",
       "  </thead>\n",
       "  <tbody>\n",
       "    <tr>\n",
       "      <th>0</th>\n",
       "      <td>1</td>\n",
       "      <td>732</td>\n",
       "      <td>_***i</td>\n",
       "      <td>0.200000</td>\n",
       "      <td>0.400000</td>\n",
       "      <td>0.0</td>\n",
       "      <td>0.000028</td>\n",
       "      <td>0.0</td>\n",
       "      <td>0.993593</td>\n",
       "      <td>0.000028</td>\n",
       "      <td>0.666667</td>\n",
       "      <td>5</td>\n",
       "      <td>0</td>\n",
       "    </tr>\n",
       "    <tr>\n",
       "      <th>1</th>\n",
       "      <td>2</td>\n",
       "      <td>732</td>\n",
       "      <td>g***r</td>\n",
       "      <td>0.024390</td>\n",
       "      <td>0.200000</td>\n",
       "      <td>0.0</td>\n",
       "      <td>0.013123</td>\n",
       "      <td>0.0</td>\n",
       "      <td>0.993593</td>\n",
       "      <td>0.013123</td>\n",
       "      <td>0.944444</td>\n",
       "      <td>5</td>\n",
       "      <td>0</td>\n",
       "    </tr>\n",
       "    <tr>\n",
       "      <th>2</th>\n",
       "      <td>3</td>\n",
       "      <td>732</td>\n",
       "      <td>t***p</td>\n",
       "      <td>0.142857</td>\n",
       "      <td>0.200000</td>\n",
       "      <td>0.0</td>\n",
       "      <td>0.003042</td>\n",
       "      <td>0.0</td>\n",
       "      <td>0.993593</td>\n",
       "      <td>0.003042</td>\n",
       "      <td>1.000000</td>\n",
       "      <td>5</td>\n",
       "      <td>0</td>\n",
       "    </tr>\n",
       "    <tr>\n",
       "      <th>3</th>\n",
       "      <td>4</td>\n",
       "      <td>732</td>\n",
       "      <td>7***n</td>\n",
       "      <td>0.100000</td>\n",
       "      <td>0.200000</td>\n",
       "      <td>0.0</td>\n",
       "      <td>0.097477</td>\n",
       "      <td>0.0</td>\n",
       "      <td>0.993593</td>\n",
       "      <td>0.097477</td>\n",
       "      <td>1.000000</td>\n",
       "      <td>5</td>\n",
       "      <td>0</td>\n",
       "    </tr>\n",
       "    <tr>\n",
       "      <th>4</th>\n",
       "      <td>5</td>\n",
       "      <td>900</td>\n",
       "      <td>z***z</td>\n",
       "      <td>0.051282</td>\n",
       "      <td>0.222222</td>\n",
       "      <td>0.0</td>\n",
       "      <td>0.001318</td>\n",
       "      <td>0.0</td>\n",
       "      <td>0.000000</td>\n",
       "      <td>0.001242</td>\n",
       "      <td>0.500000</td>\n",
       "      <td>7</td>\n",
       "      <td>0</td>\n",
       "    </tr>\n",
       "  </tbody>\n",
       "</table>\n",
       "</div>"
      ],
      "text/plain": [
       "   Record_ID  Auction_ID Bidder_ID  Bidder_Tendency  Bidding_Ratio  \\\n",
       "0          1         732     _***i         0.200000       0.400000   \n",
       "1          2         732     g***r         0.024390       0.200000   \n",
       "2          3         732     t***p         0.142857       0.200000   \n",
       "3          4         732     7***n         0.100000       0.200000   \n",
       "4          5         900     z***z         0.051282       0.222222   \n",
       "\n",
       "   Successive_Outbidding  Last_Bidding  Auction_Bids  Starting_Price_Average  \\\n",
       "0                    0.0      0.000028           0.0                0.993593   \n",
       "1                    0.0      0.013123           0.0                0.993593   \n",
       "2                    0.0      0.003042           0.0                0.993593   \n",
       "3                    0.0      0.097477           0.0                0.993593   \n",
       "4                    0.0      0.001318           0.0                0.000000   \n",
       "\n",
       "   Early_Bidding  Winning_Ratio  Auction_Duration  Class  \n",
       "0       0.000028       0.666667                 5      0  \n",
       "1       0.013123       0.944444                 5      0  \n",
       "2       0.003042       1.000000                 5      0  \n",
       "3       0.097477       1.000000                 5      0  \n",
       "4       0.001242       0.500000                 7      0  "
      ]
     },
     "execution_count": 3,
     "metadata": {},
     "output_type": "execute_result"
    }
   ],
   "source": [
    "# Import necessary libraries\n",
    "import pandas as pd  # For data manipulation and analysis\n",
    "\n",
    "# Read the CSV file using pandas\n",
    "data = pd.read_csv(\"Downloads/Shill Bidding Dataset.csv\")\n",
    "\n",
    "# Display the first few rows of the DataFrame to inspect the data\n",
    "data.head()"
   ]
  },
  {
   "cell_type": "code",
   "execution_count": 4,
   "id": "2aef2579",
   "metadata": {},
   "outputs": [
    {
     "data": {
      "text/html": [
       "<div>\n",
       "<style scoped>\n",
       "    .dataframe tbody tr th:only-of-type {\n",
       "        vertical-align: middle;\n",
       "    }\n",
       "\n",
       "    .dataframe tbody tr th {\n",
       "        vertical-align: top;\n",
       "    }\n",
       "\n",
       "    .dataframe thead th {\n",
       "        text-align: right;\n",
       "    }\n",
       "</style>\n",
       "<table border=\"1\" class=\"dataframe\">\n",
       "  <thead>\n",
       "    <tr style=\"text-align: right;\">\n",
       "      <th></th>\n",
       "      <th>Bidder_Tendency</th>\n",
       "      <th>Bidding_Ratio</th>\n",
       "      <th>Successive_Outbidding</th>\n",
       "      <th>Last_Bidding</th>\n",
       "      <th>Auction_Bids</th>\n",
       "      <th>Starting_Price_Average</th>\n",
       "      <th>Early_Bidding</th>\n",
       "      <th>Winning_Ratio</th>\n",
       "      <th>Auction_Duration</th>\n",
       "      <th>Class</th>\n",
       "    </tr>\n",
       "  </thead>\n",
       "  <tbody>\n",
       "    <tr>\n",
       "      <th>0</th>\n",
       "      <td>0.200000</td>\n",
       "      <td>0.400000</td>\n",
       "      <td>0.0</td>\n",
       "      <td>0.000028</td>\n",
       "      <td>0.0</td>\n",
       "      <td>0.993593</td>\n",
       "      <td>0.000028</td>\n",
       "      <td>0.666667</td>\n",
       "      <td>5</td>\n",
       "      <td>0</td>\n",
       "    </tr>\n",
       "    <tr>\n",
       "      <th>1</th>\n",
       "      <td>0.024390</td>\n",
       "      <td>0.200000</td>\n",
       "      <td>0.0</td>\n",
       "      <td>0.013123</td>\n",
       "      <td>0.0</td>\n",
       "      <td>0.993593</td>\n",
       "      <td>0.013123</td>\n",
       "      <td>0.944444</td>\n",
       "      <td>5</td>\n",
       "      <td>0</td>\n",
       "    </tr>\n",
       "    <tr>\n",
       "      <th>2</th>\n",
       "      <td>0.142857</td>\n",
       "      <td>0.200000</td>\n",
       "      <td>0.0</td>\n",
       "      <td>0.003042</td>\n",
       "      <td>0.0</td>\n",
       "      <td>0.993593</td>\n",
       "      <td>0.003042</td>\n",
       "      <td>1.000000</td>\n",
       "      <td>5</td>\n",
       "      <td>0</td>\n",
       "    </tr>\n",
       "    <tr>\n",
       "      <th>3</th>\n",
       "      <td>0.100000</td>\n",
       "      <td>0.200000</td>\n",
       "      <td>0.0</td>\n",
       "      <td>0.097477</td>\n",
       "      <td>0.0</td>\n",
       "      <td>0.993593</td>\n",
       "      <td>0.097477</td>\n",
       "      <td>1.000000</td>\n",
       "      <td>5</td>\n",
       "      <td>0</td>\n",
       "    </tr>\n",
       "    <tr>\n",
       "      <th>4</th>\n",
       "      <td>0.051282</td>\n",
       "      <td>0.222222</td>\n",
       "      <td>0.0</td>\n",
       "      <td>0.001318</td>\n",
       "      <td>0.0</td>\n",
       "      <td>0.000000</td>\n",
       "      <td>0.001242</td>\n",
       "      <td>0.500000</td>\n",
       "      <td>7</td>\n",
       "      <td>0</td>\n",
       "    </tr>\n",
       "  </tbody>\n",
       "</table>\n",
       "</div>"
      ],
      "text/plain": [
       "   Bidder_Tendency  Bidding_Ratio  Successive_Outbidding  Last_Bidding  \\\n",
       "0         0.200000       0.400000                    0.0      0.000028   \n",
       "1         0.024390       0.200000                    0.0      0.013123   \n",
       "2         0.142857       0.200000                    0.0      0.003042   \n",
       "3         0.100000       0.200000                    0.0      0.097477   \n",
       "4         0.051282       0.222222                    0.0      0.001318   \n",
       "\n",
       "   Auction_Bids  Starting_Price_Average  Early_Bidding  Winning_Ratio  \\\n",
       "0           0.0                0.993593       0.000028       0.666667   \n",
       "1           0.0                0.993593       0.013123       0.944444   \n",
       "2           0.0                0.993593       0.003042       1.000000   \n",
       "3           0.0                0.993593       0.097477       1.000000   \n",
       "4           0.0                0.000000       0.001242       0.500000   \n",
       "\n",
       "   Auction_Duration  Class  \n",
       "0                 5      0  \n",
       "1                 5      0  \n",
       "2                 5      0  \n",
       "3                 5      0  \n",
       "4                 7      0  "
      ]
     },
     "execution_count": 4,
     "metadata": {},
     "output_type": "execute_result"
    }
   ],
   "source": [
    "\n",
    "# Drop the specified columns (Record_ID, Auction_ID, Bidder_ID) from the DataFrame\n",
    "data.drop([\"Record_ID\", \"Auction_ID\", \"Bidder_ID\"], axis=1, inplace=True)\n",
    "\n",
    "# Display the first few rows of the DataFrame after dropping the columns\n",
    "data.head()"
   ]
  },
  {
   "cell_type": "code",
   "execution_count": 5,
   "id": "34094702",
   "metadata": {},
   "outputs": [],
   "source": [
    "# Extract features by dropping the \"Class\" column\n",
    "X = data.drop(\"Class\", axis=1)\n",
    "\n",
    "# Extract the target variable (\"Class\")\n",
    "y = data[\"Class\"]\n",
    "\n",
    "# Split the dataset into training and testing sets\n",
    "# X_train: Features for training, X_test: Features for testing\n",
    "# y_train: Target labels for training, y_test: Target labels for testing\n",
    "X_train, X_test, y_train, y_test = train_test_split(X, y, test_size=0.3, random_state=1, stratify=y)"
   ]
  },
  {
   "cell_type": "code",
   "execution_count": 6,
   "id": "270e209c",
   "metadata": {},
   "outputs": [
    {
     "name": "stdout",
     "output_type": "stream",
     "text": [
      "Training dataset size: (4424, 9), Testing dataset size: (1897, 9)\n"
     ]
    }
   ],
   "source": [
    "# Print the sizes of the training and testing datasets\n",
    "print(\"Training dataset size: {}, Testing dataset size: {}\".format(X_train.shape, X_test.shape))"
   ]
  },
  {
   "cell_type": "code",
   "execution_count": 7,
   "id": "21ca1631",
   "metadata": {},
   "outputs": [
    {
     "name": "stdout",
     "output_type": "stream",
     "text": [
      "Predicted values using linear regression: [-0.00375542 -0.00248633 -0.01090699 -0.02753235  0.01939224  0.99493654\n",
      "  0.02761226 -0.00565047  0.48101551  0.00471959]\n"
     ]
    }
   ],
   "source": [
    "# Import the LinearRegression model from scikit-learn\n",
    "linear = linear_model.LinearRegression()\n",
    "\n",
    "# Fit the LinearRegression model using the training data\n",
    "linear.fit(X_train, y_train)\n",
    "\n",
    "# The output of the above code will be the model information, which includes various parameters.\n",
    "\n",
    "# Predict on the first 10 test data points using the trained model\n",
    "predictions = linear.predict(X_test)[:10]\n",
    "\n",
    "# Display the predicted values for the first 10 test data points\n",
    "print(\"Predicted values using linear regression:\", predictions)"
   ]
  },
  {
   "cell_type": "code",
   "execution_count": 8,
   "id": "f6b9a5d6",
   "metadata": {},
   "outputs": [
    {
     "name": "stdout",
     "output_type": "stream",
     "text": [
      "Actual target values: [0 0 0 0 0 1 0 0 0 0]\n"
     ]
    }
   ],
   "source": [
    "# Obtain the actual target values for the first 10 test data points\n",
    "actual_values = y_test[:10].values\n",
    "\n",
    "# Display the actual target values for the first 10 test data points\n",
    "print(\"Actual target values:\", actual_values)"
   ]
  },
  {
   "cell_type": "code",
   "execution_count": 9,
   "id": "bfbde8a2",
   "metadata": {},
   "outputs": [
    {
     "name": "stdout",
     "output_type": "stream",
     "text": [
      "Score on training dataset using linear regression: 0.8166836356918417\n",
      "Score on testing dataset using linear regression: 0.8119909602893054\n"
     ]
    }
   ],
   "source": [
    "# Evaluate the score of the linear regression model on the training and testing datasets\n",
    "\n",
    "# Calculate and print the score on the training dataset\n",
    "score_train = linear.score(X_train, y_train)\n",
    "print(\"Score on training dataset using linear regression:\", score_train)\n",
    "\n",
    "# Calculate and print the score on the testing dataset\n",
    "score_test = linear.score(X_test, y_test)\n",
    "print(\"Score on testing dataset using linear regression:\", score_test)"
   ]
  },
  {
   "cell_type": "code",
   "execution_count": 10,
   "id": "4c5d577d",
   "metadata": {},
   "outputs": [
    {
     "name": "stdout",
     "output_type": "stream",
     "text": [
      "Predicted values using logistic regression: [0 0 0 0 0 1 0 0 0 0]\n"
     ]
    }
   ],
   "source": [
    "\n",
    "logit = linear_model.LogisticRegression()\n",
    "logit.fit(X_train, y_train)\n",
    "\n",
    "# Predict on the test data using the logistic regression model\n",
    "logit_predictions = logit.predict(X_test)[:10]\n",
    "\n",
    "# Display the predicted values obtained using logistic regression\n",
    "print(\"Predicted values using logistic regression:\", logit_predictions)"
   ]
  },
  {
   "cell_type": "code",
   "execution_count": 11,
   "id": "647d9e49",
   "metadata": {},
   "outputs": [
    {
     "name": "stdout",
     "output_type": "stream",
     "text": [
      "Actual target values: [0 0 0 0 0 1 0 0 0 0]\n"
     ]
    }
   ],
   "source": [
    "# Display the actual target values for the first 10 test data points\n",
    "actual_values = y_test[:10].values\n",
    "print(\"Actual target values:\", actual_values)"
   ]
  },
  {
   "cell_type": "code",
   "execution_count": 12,
   "id": "7c82388d",
   "metadata": {},
   "outputs": [
    {
     "name": "stdout",
     "output_type": "stream",
     "text": [
      "Score on training dataset using logistic regression: 0.9794303797468354\n",
      "Score on testing dataset using logistic regression: 0.9715340010542962\n"
     ]
    }
   ],
   "source": [
    "# Calculate and print the score on the training dataset using logistic regression\n",
    "logit_score_train = logit.score(X_train, y_train)\n",
    "print(\"Score on training dataset using logistic regression:\", logit_score_train)\n",
    "\n",
    "# Calculate and print the score on the testing dataset using logistic regression\n",
    "logit_score_test = logit.score(X_test, y_test)\n",
    "print(\"Score on testing dataset using logistic regression:\", logit_score_test)"
   ]
  },
  {
   "cell_type": "code",
   "execution_count": 13,
   "id": "a7a50c34",
   "metadata": {},
   "outputs": [
    {
     "data": {
      "text/html": [
       "<div>\n",
       "<style scoped>\n",
       "    .dataframe tbody tr th:only-of-type {\n",
       "        vertical-align: middle;\n",
       "    }\n",
       "\n",
       "    .dataframe tbody tr th {\n",
       "        vertical-align: top;\n",
       "    }\n",
       "\n",
       "    .dataframe thead th {\n",
       "        text-align: right;\n",
       "    }\n",
       "</style>\n",
       "<table border=\"1\" class=\"dataframe\">\n",
       "  <thead>\n",
       "    <tr style=\"text-align: right;\">\n",
       "      <th></th>\n",
       "      <th>CustomerId</th>\n",
       "      <th>CredRate</th>\n",
       "      <th>Geography</th>\n",
       "      <th>Gender</th>\n",
       "      <th>Age</th>\n",
       "      <th>Tenure</th>\n",
       "      <th>Balance</th>\n",
       "      <th>Prod Number</th>\n",
       "      <th>HasCrCard</th>\n",
       "      <th>ActMem</th>\n",
       "      <th>EstimatedSalary</th>\n",
       "      <th>Exited</th>\n",
       "    </tr>\n",
       "  </thead>\n",
       "  <tbody>\n",
       "    <tr>\n",
       "      <th>0</th>\n",
       "      <td>15634602</td>\n",
       "      <td>619</td>\n",
       "      <td>France</td>\n",
       "      <td>Female</td>\n",
       "      <td>42.0</td>\n",
       "      <td>2</td>\n",
       "      <td>0.00</td>\n",
       "      <td>1</td>\n",
       "      <td>1</td>\n",
       "      <td>1</td>\n",
       "      <td>101348.88</td>\n",
       "      <td>1</td>\n",
       "    </tr>\n",
       "    <tr>\n",
       "      <th>1</th>\n",
       "      <td>15647311</td>\n",
       "      <td>608</td>\n",
       "      <td>Spain</td>\n",
       "      <td>Female</td>\n",
       "      <td>41.0</td>\n",
       "      <td>1</td>\n",
       "      <td>83807.86</td>\n",
       "      <td>1</td>\n",
       "      <td>0</td>\n",
       "      <td>1</td>\n",
       "      <td>112542.58</td>\n",
       "      <td>0</td>\n",
       "    </tr>\n",
       "    <tr>\n",
       "      <th>2</th>\n",
       "      <td>15619304</td>\n",
       "      <td>502</td>\n",
       "      <td>France</td>\n",
       "      <td>Female</td>\n",
       "      <td>42.0</td>\n",
       "      <td>8</td>\n",
       "      <td>159660.80</td>\n",
       "      <td>3</td>\n",
       "      <td>1</td>\n",
       "      <td>0</td>\n",
       "      <td>113931.57</td>\n",
       "      <td>1</td>\n",
       "    </tr>\n",
       "    <tr>\n",
       "      <th>3</th>\n",
       "      <td>15701354</td>\n",
       "      <td>699</td>\n",
       "      <td>France</td>\n",
       "      <td>Female</td>\n",
       "      <td>39.0</td>\n",
       "      <td>1</td>\n",
       "      <td>0.00</td>\n",
       "      <td>2</td>\n",
       "      <td>0</td>\n",
       "      <td>0</td>\n",
       "      <td>93826.63</td>\n",
       "      <td>0</td>\n",
       "    </tr>\n",
       "    <tr>\n",
       "      <th>4</th>\n",
       "      <td>15737888</td>\n",
       "      <td>850</td>\n",
       "      <td>Spain</td>\n",
       "      <td>Female</td>\n",
       "      <td>43.0</td>\n",
       "      <td>2</td>\n",
       "      <td>125510.82</td>\n",
       "      <td>1</td>\n",
       "      <td>1</td>\n",
       "      <td>1</td>\n",
       "      <td>79084.10</td>\n",
       "      <td>0</td>\n",
       "    </tr>\n",
       "  </tbody>\n",
       "</table>\n",
       "</div>"
      ],
      "text/plain": [
       "   CustomerId  CredRate Geography  Gender   Age  Tenure    Balance  \\\n",
       "0    15634602       619    France  Female  42.0       2       0.00   \n",
       "1    15647311       608     Spain  Female  41.0       1   83807.86   \n",
       "2    15619304       502    France  Female  42.0       8  159660.80   \n",
       "3    15701354       699    France  Female  39.0       1       0.00   \n",
       "4    15737888       850     Spain  Female  43.0       2  125510.82   \n",
       "\n",
       "   Prod Number  HasCrCard  ActMem  EstimatedSalary  Exited  \n",
       "0            1          1       1        101348.88       1  \n",
       "1            1          0       1        112542.58       0  \n",
       "2            3          1       0        113931.57       1  \n",
       "3            2          0       0         93826.63       0  \n",
       "4            1          1       1         79084.10       0  "
      ]
     },
     "execution_count": 13,
     "metadata": {},
     "output_type": "execute_result"
    }
   ],
   "source": [
    "# Removes Warnings\n",
    "import warnings\n",
    "warnings.filterwarnings('ignore')\n",
    "\n",
    "# Import necessary libraries\n",
    "import pandas as pd             # For data manipulation and analysis\n",
    "import numpy as np              # For numerical operations\n",
    "import matplotlib.pyplot as plt # For data visualization\n",
    "import seaborn as sns           # For enhanced data visualization\n",
    "\n",
    "# Read the data from the CSV file into a pandas DataFrame named \"data\"\n",
    "data = pd.read_csv('Downloads/Churn_Modelling.csv')\n",
    "\n",
    "# Display the first five rows of the dataset to get a preview\n",
    "data.head(5)"
   ]
  },
  {
   "cell_type": "code",
   "execution_count": 14,
   "id": "f051d7eb",
   "metadata": {},
   "outputs": [
    {
     "name": "stdout",
     "output_type": "stream",
     "text": [
      "Number of rows in the dataset: 10000\n",
      "Dimensions of the dataset (rows, columns): 10000 rows, 12 columns\n"
     ]
    }
   ],
   "source": [
    "# Get the number of rows in the dataset using the len() function\n",
    "num_rows = len(data)\n",
    "\n",
    "# Get the dimensions of the dataset using the shape attribute\n",
    "num_rows, num_columns = data.shape\n",
    "\n",
    "# Display the number of rows in the dataset\n",
    "print(\"Number of rows in the dataset:\", num_rows)\n",
    "\n",
    "# Display the dimensions of the dataset (number of rows and columns)\n",
    "print(\"Dimensions of the dataset (rows, columns):\", num_rows, \"rows,\", num_columns, \"columns\")"
   ]
  },
  {
   "cell_type": "code",
   "execution_count": 15,
   "id": "54143bcc",
   "metadata": {},
   "outputs": [
    {
     "name": "stdout",
     "output_type": "stream",
     "text": [
      "Missing values exist: True\n"
     ]
    }
   ],
   "source": [
    "# Check if the dataset contains any missing values\n",
    "missing_values_exist = data.isnull().values.any()\n",
    "\n",
    "# Display whether missing values exist in the dataset\n",
    "print(\"Missing values exist:\", missing_values_exist)"
   ]
  },
  {
   "cell_type": "code",
   "execution_count": 16,
   "id": "316b803b",
   "metadata": {},
   "outputs": [
    {
     "name": "stdout",
     "output_type": "stream",
     "text": [
      "Columns with missing values:\n",
      "CustomerId         False\n",
      "CredRate           False\n",
      "Geography          False\n",
      "Gender              True\n",
      "Age                 True\n",
      "Tenure             False\n",
      "Balance            False\n",
      "Prod Number        False\n",
      "HasCrCard          False\n",
      "ActMem             False\n",
      "EstimatedSalary     True\n",
      "Exited             False\n",
      "dtype: bool\n"
     ]
    }
   ],
   "source": [
    "# Explore columns with missing values\n",
    "columns_with_missing = data.isnull().any()\n",
    "\n",
    "# Display which columns have missing values\n",
    "print(\"Columns with missing values:\")\n",
    "print(columns_with_missing)"
   ]
  },
  {
   "cell_type": "code",
   "execution_count": 17,
   "id": "ce9fe410",
   "metadata": {},
   "outputs": [
    {
     "name": "stdout",
     "output_type": "stream",
     "text": [
      "Summary statistics of EstimatedSalary and Age columns:\n",
      "       EstimatedSalary          Age\n",
      "count      9996.000000  9994.000000\n",
      "mean     100074.744083    38.925255\n",
      "std       57515.774555    10.489248\n",
      "min          11.580000    18.000000\n",
      "25%       50974.077500    32.000000\n",
      "50%      100168.240000    37.000000\n",
      "75%      149388.247500    44.000000\n",
      "max      199992.480000    92.000000\n"
     ]
    }
   ],
   "source": [
    "# Explore summary statistics of specific columns (EstimatedSalary and Age)\n",
    "specific_columns_summary = data[[\"EstimatedSalary\", \"Age\"]].describe()\n",
    "\n",
    "# Display summary statistics of specific columns\n",
    "print(\"Summary statistics of EstimatedSalary and Age columns:\")\n",
    "print(specific_columns_summary)"
   ]
  },
  {
   "cell_type": "code",
   "execution_count": 18,
   "id": "08614615",
   "metadata": {},
   "outputs": [
    {
     "name": "stdout",
     "output_type": "stream",
     "text": [
      "General summary statistics of the dataset:\n",
      "         CustomerId      CredRate          Age        Tenure        Balance  \\\n",
      "count  1.000000e+04  10000.000000  9994.000000  10000.000000   10000.000000   \n",
      "mean   1.569094e+07    650.528800    38.925255      5.012800   76485.889288   \n",
      "std    7.193619e+04     96.653299    10.489248      2.892174   62397.405202   \n",
      "min    1.556570e+07    350.000000    18.000000      0.000000       0.000000   \n",
      "25%    1.562853e+07    584.000000    32.000000      3.000000       0.000000   \n",
      "50%    1.569074e+07    652.000000    37.000000      5.000000   97198.540000   \n",
      "75%    1.575323e+07    718.000000    44.000000      7.000000  127644.240000   \n",
      "max    1.581569e+07    850.000000    92.000000     10.000000  250898.090000   \n",
      "\n",
      "        Prod Number    HasCrCard        ActMem  EstimatedSalary        Exited  \n",
      "count  10000.000000  10000.00000  10000.000000      9996.000000  10000.000000  \n",
      "mean       1.530200      0.70550      0.515100    100074.744083      0.203700  \n",
      "std        0.581654      0.45584      0.499797     57515.774555      0.402769  \n",
      "min        1.000000      0.00000      0.000000        11.580000      0.000000  \n",
      "25%        1.000000      0.00000      0.000000     50974.077500      0.000000  \n",
      "50%        1.000000      1.00000      1.000000    100168.240000      0.000000  \n",
      "75%        2.000000      1.00000      1.000000    149388.247500      0.000000  \n",
      "max        4.000000      1.00000      1.000000    199992.480000      1.000000  \n"
     ]
    }
   ],
   "source": [
    "# Explore general summary statistics of the dataset\n",
    "general_summary = data.describe()\n",
    "\n",
    "# Display general summary statistics of the dataset\n",
    "print(\"General summary statistics of the dataset:\")\n",
    "print(general_summary)"
   ]
  },
  {
   "cell_type": "code",
   "execution_count": 19,
   "id": "ed3eb797",
   "metadata": {},
   "outputs": [
    {
     "data": {
      "text/plain": [
       "HasCrCard\n",
       "1    7055\n",
       "0    2945\n",
       "Name: count, dtype: int64"
      ]
     },
     "execution_count": 19,
     "metadata": {},
     "output_type": "execute_result"
    }
   ],
   "source": [
    "# Change the data type of the HasCrCard column to \"category\"\n",
    "data[\"HasCrCard\"] = data[\"HasCrCard\"].astype(\"category\")\n",
    "data['HasCrCard'].value_counts()"
   ]
  },
  {
   "cell_type": "code",
   "execution_count": 20,
   "id": "c84f0eb3",
   "metadata": {},
   "outputs": [
    {
     "name": "stdout",
     "output_type": "stream",
     "text": [
      "Number of missing values for each column:\n",
      "CustomerId         0\n",
      "CredRate           0\n",
      "Geography          0\n",
      "Gender             4\n",
      "Age                6\n",
      "Tenure             0\n",
      "Balance            0\n",
      "Prod Number        0\n",
      "HasCrCard          0\n",
      "ActMem             0\n",
      "EstimatedSalary    4\n",
      "Exited             0\n",
      "dtype: int64\n"
     ]
    }
   ],
   "source": [
    "# Calculate the number of missing values for each column\n",
    "missing_values_count = data.isnull().sum()\n",
    "\n",
    "# Display the count of missing values for each column\n",
    "print(\"Number of missing values for each column:\")\n",
    "print(missing_values_count)"
   ]
  },
  {
   "cell_type": "code",
   "execution_count": 21,
   "id": "6d1dd7bc",
   "metadata": {},
   "outputs": [
    {
     "data": {
      "text/plain": [
       "CustomerId         0.00\n",
       "CredRate           0.00\n",
       "Geography          0.00\n",
       "Gender             0.04\n",
       "Age                0.06\n",
       "Tenure             0.00\n",
       "Balance            0.00\n",
       "Prod Number        0.00\n",
       "HasCrCard          0.00\n",
       "ActMem             0.00\n",
       "EstimatedSalary    0.04\n",
       "Exited             0.00\n",
       "dtype: float64"
      ]
     },
     "execution_count": 21,
     "metadata": {},
     "output_type": "execute_result"
    }
   ],
   "source": [
    "# Calculate the percentage of missing values for each column\n",
    "missing_values_percentage = round(data.isnull().sum() / len(data) * 100, 2)\n",
    "\n",
    "# Display the percentage of missing values for each column\n",
    "missing_values_percentage"
   ]
  },
  {
   "cell_type": "code",
   "execution_count": 22,
   "id": "f435cfc1",
   "metadata": {},
   "outputs": [
    {
     "data": {
      "text/plain": [
       "Gender              object\n",
       "Age                float64\n",
       "EstimatedSalary    float64\n",
       "dtype: object"
      ]
     },
     "execution_count": 22,
     "metadata": {},
     "output_type": "execute_result"
    }
   ],
   "source": [
    "# Check the data types of the columns with missing values\n",
    "missing_columns_data_types = data[[\"Gender\", \"Age\", \"EstimatedSalary\"]].dtypes\n",
    "\n",
    "# Display the data types of the columns with missing values\n",
    "missing_columns_data_types"
   ]
  },
  {
   "cell_type": "code",
   "execution_count": 23,
   "id": "99eaa0aa",
   "metadata": {},
   "outputs": [],
   "source": [
    "# Calculate the mean of the 'EstimatedSalary' column\n",
    "mean_value = data['EstimatedSalary'].mean()\n",
    "\n",
    "# Fill in the missing values in the 'EstimatedSalary' column with the calculated mean\n",
    "data['EstimatedSalary'] = data['EstimatedSalary'].fillna(mean_value)"
   ]
  },
  {
   "cell_type": "code",
   "execution_count": 24,
   "id": "ab50ba53",
   "metadata": {},
   "outputs": [
    {
     "name": "stdout",
     "output_type": "stream",
     "text": [
      "Gender value counts:\n",
      "Gender\n",
      "Male      5453\n",
      "Female    4543\n",
      "Name: count, dtype: int64\n"
     ]
    }
   ],
   "source": [
    "# Count the occurrences of each value in the 'Gender' column\n",
    "gender_value_counts = data['Gender'].value_counts()\n",
    "\n",
    "# Display the count of each gender category\n",
    "print(\"Gender value counts:\")\n",
    "print(gender_value_counts)\n",
    "\n",
    "# Fill in the missing values in the 'Gender' column with the most common gender value\n",
    "most_common_gender = gender_value_counts.idxmax()\n",
    "data['Gender'] = data['Gender'].fillna(most_common_gender)"
   ]
  },
  {
   "cell_type": "code",
   "execution_count": 25,
   "id": "12a1e07a",
   "metadata": {},
   "outputs": [
    {
     "name": "stdout",
     "output_type": "stream",
     "text": [
      "Mode value of Age column: 37.0\n"
     ]
    }
   ],
   "source": [
    "# Calculate the mode of the 'Age' column\n",
    "mode_value = data['Age'].mode()\n",
    "\n",
    "# Display the mode value of the 'Age' column\n",
    "print(\"Mode value of Age column:\", mode_value[0])\n",
    "\n",
    "# Fill in the missing values in the 'Age' column with the calculated mode\n",
    "data['Age'] = data['Age'].fillna(mode_value[0])"
   ]
  },
  {
   "cell_type": "code",
   "execution_count": 26,
   "id": "841aba3c",
   "metadata": {},
   "outputs": [
    {
     "name": "stdout",
     "output_type": "stream",
     "text": [
      "Missing values exist in each column:\n",
      "CustomerId         False\n",
      "CredRate           False\n",
      "Geography          False\n",
      "Gender             False\n",
      "Age                False\n",
      "Tenure             False\n",
      "Balance            False\n",
      "Prod Number        False\n",
      "HasCrCard          False\n",
      "ActMem             False\n",
      "EstimatedSalary    False\n",
      "Exited             False\n",
      "dtype: bool\n"
     ]
    }
   ],
   "source": [
    "# Check for the presence of any missing values in the dataset\n",
    "missing_values_exist = data.isnull().any()\n",
    "\n",
    "# Display whether missing values exist in each column\n",
    "print(\"Missing values exist in each column:\")\n",
    "print(missing_values_exist)"
   ]
  },
  {
   "cell_type": "code",
   "execution_count": 27,
   "id": "8de54d88",
   "metadata": {},
   "outputs": [
    {
     "data": {
      "text/html": [
       "<div>\n",
       "<style scoped>\n",
       "    .dataframe tbody tr th:only-of-type {\n",
       "        vertical-align: middle;\n",
       "    }\n",
       "\n",
       "    .dataframe tbody tr th {\n",
       "        vertical-align: top;\n",
       "    }\n",
       "\n",
       "    .dataframe thead th {\n",
       "        text-align: right;\n",
       "    }\n",
       "</style>\n",
       "<table border=\"1\" class=\"dataframe\">\n",
       "  <thead>\n",
       "    <tr style=\"text-align: right;\">\n",
       "      <th></th>\n",
       "      <th>CustomerId</th>\n",
       "      <th>CredRate</th>\n",
       "      <th>Geography</th>\n",
       "      <th>Gender</th>\n",
       "      <th>Age</th>\n",
       "      <th>Tenure</th>\n",
       "      <th>Balance</th>\n",
       "      <th>Prod Number</th>\n",
       "      <th>HasCrCard</th>\n",
       "      <th>ActMem</th>\n",
       "      <th>EstimatedSalary</th>\n",
       "      <th>Exited</th>\n",
       "    </tr>\n",
       "  </thead>\n",
       "  <tbody>\n",
       "    <tr>\n",
       "      <th>0</th>\n",
       "      <td>15634602</td>\n",
       "      <td>619</td>\n",
       "      <td>France</td>\n",
       "      <td>Female</td>\n",
       "      <td>42.0</td>\n",
       "      <td>2</td>\n",
       "      <td>0.00</td>\n",
       "      <td>1</td>\n",
       "      <td>1</td>\n",
       "      <td>1</td>\n",
       "      <td>101348.88</td>\n",
       "      <td>1</td>\n",
       "    </tr>\n",
       "    <tr>\n",
       "      <th>1</th>\n",
       "      <td>15647311</td>\n",
       "      <td>608</td>\n",
       "      <td>Spain</td>\n",
       "      <td>Female</td>\n",
       "      <td>41.0</td>\n",
       "      <td>1</td>\n",
       "      <td>83807.86</td>\n",
       "      <td>1</td>\n",
       "      <td>0</td>\n",
       "      <td>1</td>\n",
       "      <td>112542.58</td>\n",
       "      <td>0</td>\n",
       "    </tr>\n",
       "    <tr>\n",
       "      <th>2</th>\n",
       "      <td>15619304</td>\n",
       "      <td>502</td>\n",
       "      <td>France</td>\n",
       "      <td>Female</td>\n",
       "      <td>42.0</td>\n",
       "      <td>8</td>\n",
       "      <td>159660.80</td>\n",
       "      <td>3</td>\n",
       "      <td>1</td>\n",
       "      <td>0</td>\n",
       "      <td>113931.57</td>\n",
       "      <td>1</td>\n",
       "    </tr>\n",
       "    <tr>\n",
       "      <th>3</th>\n",
       "      <td>15701354</td>\n",
       "      <td>699</td>\n",
       "      <td>France</td>\n",
       "      <td>Female</td>\n",
       "      <td>39.0</td>\n",
       "      <td>1</td>\n",
       "      <td>0.00</td>\n",
       "      <td>2</td>\n",
       "      <td>0</td>\n",
       "      <td>0</td>\n",
       "      <td>93826.63</td>\n",
       "      <td>0</td>\n",
       "    </tr>\n",
       "    <tr>\n",
       "      <th>4</th>\n",
       "      <td>15737888</td>\n",
       "      <td>850</td>\n",
       "      <td>Spain</td>\n",
       "      <td>Female</td>\n",
       "      <td>43.0</td>\n",
       "      <td>2</td>\n",
       "      <td>125510.82</td>\n",
       "      <td>1</td>\n",
       "      <td>1</td>\n",
       "      <td>1</td>\n",
       "      <td>79084.10</td>\n",
       "      <td>0</td>\n",
       "    </tr>\n",
       "  </tbody>\n",
       "</table>\n",
       "</div>"
      ],
      "text/plain": [
       "   CustomerId  CredRate Geography  Gender   Age  Tenure    Balance  \\\n",
       "0    15634602       619    France  Female  42.0       2       0.00   \n",
       "1    15647311       608     Spain  Female  41.0       1   83807.86   \n",
       "2    15619304       502    France  Female  42.0       8  159660.80   \n",
       "3    15701354       699    France  Female  39.0       1       0.00   \n",
       "4    15737888       850     Spain  Female  43.0       2  125510.82   \n",
       "\n",
       "   Prod Number HasCrCard  ActMem  EstimatedSalary  Exited  \n",
       "0            1         1       1        101348.88       1  \n",
       "1            1         0       1        112542.58       0  \n",
       "2            3         1       0        113931.57       1  \n",
       "3            2         0       0         93826.63       0  \n",
       "4            1         1       1         79084.10       0  "
      ]
     },
     "execution_count": 27,
     "metadata": {},
     "output_type": "execute_result"
    }
   ],
   "source": [
    "data.head(5)"
   ]
  },
  {
   "cell_type": "code",
   "execution_count": 28,
   "id": "6267b9db",
   "metadata": {},
   "outputs": [
    {
     "name": "stdout",
     "output_type": "stream",
     "text": [
      "Updated column names:\n",
      "Index(['CustomerId', 'CreditScore', 'Geography', 'Gender', 'Age', 'Tenure',\n",
      "       'Balance', 'NumOfProducts', 'HasCrCard', 'IsActiveMember',\n",
      "       'EstimatedSalary', 'Churn'],\n",
      "      dtype='object')\n"
     ]
    }
   ],
   "source": [
    "# Rename selected columns using a dictionary of column name changes\n",
    "data = data.rename(columns={\n",
    "    'CredRate': 'CreditScore',\n",
    "    'ActMem': 'IsActiveMember',\n",
    "    'Prod Number': 'NumOfProducts',\n",
    "    'Exited': 'Churn'\n",
    "})\n",
    "\n",
    "# Display the updated column names after renaming\n",
    "print(\"Updated column names:\")\n",
    "print(data.columns)"
   ]
  },
  {
   "cell_type": "code",
   "execution_count": 29,
   "id": "37dabff1",
   "metadata": {},
   "outputs": [
    {
     "data": {
      "text/html": [
       "<div>\n",
       "<style scoped>\n",
       "    .dataframe tbody tr th:only-of-type {\n",
       "        vertical-align: middle;\n",
       "    }\n",
       "\n",
       "    .dataframe tbody tr th {\n",
       "        vertical-align: top;\n",
       "    }\n",
       "\n",
       "    .dataframe thead th {\n",
       "        text-align: right;\n",
       "    }\n",
       "</style>\n",
       "<table border=\"1\" class=\"dataframe\">\n",
       "  <thead>\n",
       "    <tr style=\"text-align: right;\">\n",
       "      <th></th>\n",
       "      <th>CustomerId</th>\n",
       "      <th>CreditScore</th>\n",
       "      <th>Geography</th>\n",
       "      <th>Gender</th>\n",
       "      <th>Age</th>\n",
       "      <th>Tenure</th>\n",
       "      <th>Balance</th>\n",
       "      <th>NumOfProducts</th>\n",
       "      <th>HasCrCard</th>\n",
       "      <th>IsActiveMember</th>\n",
       "      <th>EstimatedSalary</th>\n",
       "      <th>Churn</th>\n",
       "    </tr>\n",
       "  </thead>\n",
       "  <tbody>\n",
       "    <tr>\n",
       "      <th>0</th>\n",
       "      <td>15634602</td>\n",
       "      <td>619</td>\n",
       "      <td>France</td>\n",
       "      <td>Female</td>\n",
       "      <td>42.0</td>\n",
       "      <td>2</td>\n",
       "      <td>0.00</td>\n",
       "      <td>1</td>\n",
       "      <td>1</td>\n",
       "      <td>1</td>\n",
       "      <td>101348.88</td>\n",
       "      <td>1</td>\n",
       "    </tr>\n",
       "    <tr>\n",
       "      <th>1</th>\n",
       "      <td>15647311</td>\n",
       "      <td>608</td>\n",
       "      <td>Spain</td>\n",
       "      <td>Female</td>\n",
       "      <td>41.0</td>\n",
       "      <td>1</td>\n",
       "      <td>83807.86</td>\n",
       "      <td>1</td>\n",
       "      <td>0</td>\n",
       "      <td>1</td>\n",
       "      <td>112542.58</td>\n",
       "      <td>0</td>\n",
       "    </tr>\n",
       "    <tr>\n",
       "      <th>2</th>\n",
       "      <td>15619304</td>\n",
       "      <td>502</td>\n",
       "      <td>France</td>\n",
       "      <td>Female</td>\n",
       "      <td>42.0</td>\n",
       "      <td>8</td>\n",
       "      <td>159660.80</td>\n",
       "      <td>3</td>\n",
       "      <td>1</td>\n",
       "      <td>0</td>\n",
       "      <td>113931.57</td>\n",
       "      <td>1</td>\n",
       "    </tr>\n",
       "    <tr>\n",
       "      <th>3</th>\n",
       "      <td>15701354</td>\n",
       "      <td>699</td>\n",
       "      <td>France</td>\n",
       "      <td>Female</td>\n",
       "      <td>39.0</td>\n",
       "      <td>1</td>\n",
       "      <td>0.00</td>\n",
       "      <td>2</td>\n",
       "      <td>0</td>\n",
       "      <td>0</td>\n",
       "      <td>93826.63</td>\n",
       "      <td>0</td>\n",
       "    </tr>\n",
       "    <tr>\n",
       "      <th>4</th>\n",
       "      <td>15737888</td>\n",
       "      <td>850</td>\n",
       "      <td>Spain</td>\n",
       "      <td>Female</td>\n",
       "      <td>43.0</td>\n",
       "      <td>2</td>\n",
       "      <td>125510.82</td>\n",
       "      <td>1</td>\n",
       "      <td>1</td>\n",
       "      <td>1</td>\n",
       "      <td>79084.10</td>\n",
       "      <td>0</td>\n",
       "    </tr>\n",
       "  </tbody>\n",
       "</table>\n",
       "</div>"
      ],
      "text/plain": [
       "   CustomerId  CreditScore Geography  Gender   Age  Tenure    Balance  \\\n",
       "0    15634602          619    France  Female  42.0       2       0.00   \n",
       "1    15647311          608     Spain  Female  41.0       1   83807.86   \n",
       "2    15619304          502    France  Female  42.0       8  159660.80   \n",
       "3    15701354          699    France  Female  39.0       1       0.00   \n",
       "4    15737888          850     Spain  Female  43.0       2  125510.82   \n",
       "\n",
       "   NumOfProducts HasCrCard  IsActiveMember  EstimatedSalary  Churn  \n",
       "0              1         1               1        101348.88      1  \n",
       "1              1         0               1        112542.58      0  \n",
       "2              3         1               0        113931.57      1  \n",
       "3              2         0               0         93826.63      0  \n",
       "4              1         1               1         79084.10      0  "
      ]
     },
     "execution_count": 29,
     "metadata": {},
     "output_type": "execute_result"
    }
   ],
   "source": [
    "# Display the first five rows of the dataset to get a preview\n",
    "data.head(5)"
   ]
  },
  {
   "cell_type": "code",
   "execution_count": 30,
   "id": "a08078c4",
   "metadata": {},
   "outputs": [
    {
     "name": "stdout",
     "output_type": "stream",
     "text": [
      "Updated column names after repositioning 'Churn' column:\n",
      "Index(['CreditScore', 'Geography', 'Gender', 'Age', 'Tenure', 'Balance',\n",
      "       'NumOfProducts', 'HasCrCard', 'IsActiveMember', 'EstimatedSalary',\n",
      "       'Churn'],\n",
      "      dtype='object')\n"
     ]
    }
   ],
   "source": [
    "# Drop the 'CustomerId' column from the dataset\n",
    "data.drop(labels=['CustomerId'], axis=1, inplace=True)\n",
    "\n",
    "# Extract the 'Churn' column and drop it from the dataset\n",
    "column_churn = data['Churn']\n",
    "data.drop(labels=['Churn'], axis=1, inplace=True)\n",
    "\n",
    "# Insert the 'Churn' column at the end of the dataset\n",
    "data.insert(len(data.columns), 'Churn', column_churn.values)\n",
    "\n",
    "# Display the updated column names after repositioning the 'Churn' column\n",
    "print(\"Updated column names after repositioning 'Churn' column:\")\n",
    "print(data.columns)"
   ]
  },
  {
   "cell_type": "code",
   "execution_count": 31,
   "id": "428d28e0",
   "metadata": {},
   "outputs": [
    {
     "data": {
      "text/html": [
       "<div>\n",
       "<style scoped>\n",
       "    .dataframe tbody tr th:only-of-type {\n",
       "        vertical-align: middle;\n",
       "    }\n",
       "\n",
       "    .dataframe tbody tr th {\n",
       "        vertical-align: top;\n",
       "    }\n",
       "\n",
       "    .dataframe thead th {\n",
       "        text-align: right;\n",
       "    }\n",
       "</style>\n",
       "<table border=\"1\" class=\"dataframe\">\n",
       "  <thead>\n",
       "    <tr style=\"text-align: right;\">\n",
       "      <th></th>\n",
       "      <th>CreditScore</th>\n",
       "      <th>Geography</th>\n",
       "      <th>Gender</th>\n",
       "      <th>Age</th>\n",
       "      <th>Tenure</th>\n",
       "      <th>Balance</th>\n",
       "      <th>NumOfProducts</th>\n",
       "      <th>HasCrCard</th>\n",
       "      <th>IsActiveMember</th>\n",
       "      <th>EstimatedSalary</th>\n",
       "      <th>Churn</th>\n",
       "    </tr>\n",
       "  </thead>\n",
       "  <tbody>\n",
       "    <tr>\n",
       "      <th>0</th>\n",
       "      <td>619</td>\n",
       "      <td>France</td>\n",
       "      <td>Female</td>\n",
       "      <td>42.0</td>\n",
       "      <td>2</td>\n",
       "      <td>0.00</td>\n",
       "      <td>1</td>\n",
       "      <td>1</td>\n",
       "      <td>1</td>\n",
       "      <td>101348.88</td>\n",
       "      <td>1</td>\n",
       "    </tr>\n",
       "    <tr>\n",
       "      <th>1</th>\n",
       "      <td>608</td>\n",
       "      <td>Spain</td>\n",
       "      <td>Female</td>\n",
       "      <td>41.0</td>\n",
       "      <td>1</td>\n",
       "      <td>83807.86</td>\n",
       "      <td>1</td>\n",
       "      <td>0</td>\n",
       "      <td>1</td>\n",
       "      <td>112542.58</td>\n",
       "      <td>0</td>\n",
       "    </tr>\n",
       "    <tr>\n",
       "      <th>2</th>\n",
       "      <td>502</td>\n",
       "      <td>France</td>\n",
       "      <td>Female</td>\n",
       "      <td>42.0</td>\n",
       "      <td>8</td>\n",
       "      <td>159660.80</td>\n",
       "      <td>3</td>\n",
       "      <td>1</td>\n",
       "      <td>0</td>\n",
       "      <td>113931.57</td>\n",
       "      <td>1</td>\n",
       "    </tr>\n",
       "    <tr>\n",
       "      <th>3</th>\n",
       "      <td>699</td>\n",
       "      <td>France</td>\n",
       "      <td>Female</td>\n",
       "      <td>39.0</td>\n",
       "      <td>1</td>\n",
       "      <td>0.00</td>\n",
       "      <td>2</td>\n",
       "      <td>0</td>\n",
       "      <td>0</td>\n",
       "      <td>93826.63</td>\n",
       "      <td>0</td>\n",
       "    </tr>\n",
       "    <tr>\n",
       "      <th>4</th>\n",
       "      <td>850</td>\n",
       "      <td>Spain</td>\n",
       "      <td>Female</td>\n",
       "      <td>43.0</td>\n",
       "      <td>2</td>\n",
       "      <td>125510.82</td>\n",
       "      <td>1</td>\n",
       "      <td>1</td>\n",
       "      <td>1</td>\n",
       "      <td>79084.10</td>\n",
       "      <td>0</td>\n",
       "    </tr>\n",
       "  </tbody>\n",
       "</table>\n",
       "</div>"
      ],
      "text/plain": [
       "   CreditScore Geography  Gender   Age  Tenure    Balance  NumOfProducts  \\\n",
       "0          619    France  Female  42.0       2       0.00              1   \n",
       "1          608     Spain  Female  41.0       1   83807.86              1   \n",
       "2          502    France  Female  42.0       8  159660.80              3   \n",
       "3          699    France  Female  39.0       1       0.00              2   \n",
       "4          850     Spain  Female  43.0       2  125510.82              1   \n",
       "\n",
       "  HasCrCard  IsActiveMember  EstimatedSalary  Churn  \n",
       "0         1               1        101348.88      1  \n",
       "1         0               1        112542.58      0  \n",
       "2         1               0        113931.57      1  \n",
       "3         0               0         93826.63      0  \n",
       "4         1               1         79084.10      0  "
      ]
     },
     "execution_count": 31,
     "metadata": {},
     "output_type": "execute_result"
    }
   ],
   "source": [
    "data.head(5)"
   ]
  },
  {
   "cell_type": "code",
   "execution_count": 32,
   "id": "022b3e63",
   "metadata": {},
   "outputs": [
    {
     "name": "stdout",
     "output_type": "stream",
     "text": [
      "Data types of columns after conversion:\n",
      "CreditScore           int64\n",
      "Geography          category\n",
      "Gender             category\n",
      "Age                 float64\n",
      "Tenure                int64\n",
      "Balance             float64\n",
      "NumOfProducts         int64\n",
      "HasCrCard          category\n",
      "IsActiveMember     category\n",
      "EstimatedSalary     float64\n",
      "Churn              category\n",
      "dtype: object\n"
     ]
    }
   ],
   "source": [
    "# Convert selected columns to the 'category' data type\n",
    "data[\"Geography\"] = data[\"Geography\"].astype('category')\n",
    "data[\"Gender\"] = data[\"Gender\"].astype('category')\n",
    "data[\"HasCrCard\"] = data[\"HasCrCard\"].astype('category')\n",
    "data[\"Churn\"] = data[\"Churn\"].astype('category')\n",
    "data[\"IsActiveMember\"] = data[\"IsActiveMember\"].astype('category')\n",
    "\n",
    "# Display the data types of all columns after conversion\n",
    "print(\"Data types of columns after conversion:\")\n",
    "print(data.dtypes)"
   ]
  },
  {
   "cell_type": "code",
   "execution_count": 33,
   "id": "1f31e835",
   "metadata": {},
   "outputs": [
    {
     "data": {
      "text/plain": [
       "Churn\n",
       "0    7963\n",
       "1    2037\n",
       "Name: count, dtype: int64"
      ]
     },
     "execution_count": 33,
     "metadata": {},
     "output_type": "execute_result"
    }
   ],
   "source": [
    "churn_counts = data['Churn'].value_counts()\n",
    "churn_counts"
   ]
  },
  {
   "cell_type": "code",
   "execution_count": 34,
   "id": "3530e3c9",
   "metadata": {},
   "outputs": [
    {
     "data": {
      "text/plain": [
       "Churn\n",
       "0    79.63\n",
       "1    20.37\n",
       "Name: proportion, dtype: float64"
      ]
     },
     "execution_count": 34,
     "metadata": {},
     "output_type": "execute_result"
    }
   ],
   "source": [
    "# Calculate the percentage of churned and non-churned customers\n",
    "percentage_churned = data['Churn'].value_counts(normalize=True) * 100\n",
    "percentage_churned"
   ]
  },
  {
   "cell_type": "code",
   "execution_count": 35,
   "id": "58faa45a",
   "metadata": {},
   "outputs": [
    {
     "data": {
      "text/plain": [
       "HasCrCard\n",
       "1    70.55\n",
       "0    29.45\n",
       "Name: proportion, dtype: float64"
      ]
     },
     "execution_count": 35,
     "metadata": {},
     "output_type": "execute_result"
    }
   ],
   "source": [
    "# Calculate the percentage of customers with a credit card\n",
    "percentage_has_cr_card = data['HasCrCard'].value_counts(normalize=True) * 100\n",
    "percentage_has_cr_card"
   ]
  },
  {
   "cell_type": "code",
   "execution_count": 36,
   "id": "a479a239",
   "metadata": {},
   "outputs": [
    {
     "data": {
      "text/html": [
       "<div>\n",
       "<style scoped>\n",
       "    .dataframe tbody tr th:only-of-type {\n",
       "        vertical-align: middle;\n",
       "    }\n",
       "\n",
       "    .dataframe tbody tr th {\n",
       "        vertical-align: top;\n",
       "    }\n",
       "\n",
       "    .dataframe thead th {\n",
       "        text-align: right;\n",
       "    }\n",
       "</style>\n",
       "<table border=\"1\" class=\"dataframe\">\n",
       "  <thead>\n",
       "    <tr style=\"text-align: right;\">\n",
       "      <th></th>\n",
       "      <th>CreditScore</th>\n",
       "      <th>Age</th>\n",
       "      <th>Tenure</th>\n",
       "      <th>Balance</th>\n",
       "      <th>NumOfProducts</th>\n",
       "      <th>EstimatedSalary</th>\n",
       "    </tr>\n",
       "  </thead>\n",
       "  <tbody>\n",
       "    <tr>\n",
       "      <th>count</th>\n",
       "      <td>10000.000000</td>\n",
       "      <td>10000.000000</td>\n",
       "      <td>10000.000000</td>\n",
       "      <td>10000.000000</td>\n",
       "      <td>10000.000000</td>\n",
       "      <td>10000.000000</td>\n",
       "    </tr>\n",
       "    <tr>\n",
       "      <th>mean</th>\n",
       "      <td>650.528800</td>\n",
       "      <td>38.924100</td>\n",
       "      <td>5.012800</td>\n",
       "      <td>76485.889288</td>\n",
       "      <td>1.530200</td>\n",
       "      <td>100074.744083</td>\n",
       "    </tr>\n",
       "    <tr>\n",
       "      <th>std</th>\n",
       "      <td>96.653299</td>\n",
       "      <td>10.486207</td>\n",
       "      <td>2.892174</td>\n",
       "      <td>62397.405202</td>\n",
       "      <td>0.581654</td>\n",
       "      <td>57504.269099</td>\n",
       "    </tr>\n",
       "    <tr>\n",
       "      <th>min</th>\n",
       "      <td>350.000000</td>\n",
       "      <td>18.000000</td>\n",
       "      <td>0.000000</td>\n",
       "      <td>0.000000</td>\n",
       "      <td>1.000000</td>\n",
       "      <td>11.580000</td>\n",
       "    </tr>\n",
       "    <tr>\n",
       "      <th>25%</th>\n",
       "      <td>584.000000</td>\n",
       "      <td>32.000000</td>\n",
       "      <td>3.000000</td>\n",
       "      <td>0.000000</td>\n",
       "      <td>1.000000</td>\n",
       "      <td>51002.110000</td>\n",
       "    </tr>\n",
       "    <tr>\n",
       "      <th>50%</th>\n",
       "      <td>652.000000</td>\n",
       "      <td>37.000000</td>\n",
       "      <td>5.000000</td>\n",
       "      <td>97198.540000</td>\n",
       "      <td>1.000000</td>\n",
       "      <td>100134.325000</td>\n",
       "    </tr>\n",
       "    <tr>\n",
       "      <th>75%</th>\n",
       "      <td>718.000000</td>\n",
       "      <td>44.000000</td>\n",
       "      <td>7.000000</td>\n",
       "      <td>127644.240000</td>\n",
       "      <td>2.000000</td>\n",
       "      <td>149382.097500</td>\n",
       "    </tr>\n",
       "    <tr>\n",
       "      <th>max</th>\n",
       "      <td>850.000000</td>\n",
       "      <td>92.000000</td>\n",
       "      <td>10.000000</td>\n",
       "      <td>250898.090000</td>\n",
       "      <td>4.000000</td>\n",
       "      <td>199992.480000</td>\n",
       "    </tr>\n",
       "  </tbody>\n",
       "</table>\n",
       "</div>"
      ],
      "text/plain": [
       "        CreditScore           Age        Tenure        Balance  NumOfProducts  \\\n",
       "count  10000.000000  10000.000000  10000.000000   10000.000000   10000.000000   \n",
       "mean     650.528800     38.924100      5.012800   76485.889288       1.530200   \n",
       "std       96.653299     10.486207      2.892174   62397.405202       0.581654   \n",
       "min      350.000000     18.000000      0.000000       0.000000       1.000000   \n",
       "25%      584.000000     32.000000      3.000000       0.000000       1.000000   \n",
       "50%      652.000000     37.000000      5.000000   97198.540000       1.000000   \n",
       "75%      718.000000     44.000000      7.000000  127644.240000       2.000000   \n",
       "max      850.000000     92.000000     10.000000  250898.090000       4.000000   \n",
       "\n",
       "       EstimatedSalary  \n",
       "count     10000.000000  \n",
       "mean     100074.744083  \n",
       "std       57504.269099  \n",
       "min          11.580000  \n",
       "25%       51002.110000  \n",
       "50%      100134.325000  \n",
       "75%      149382.097500  \n",
       "max      199992.480000  "
      ]
     },
     "execution_count": 36,
     "metadata": {},
     "output_type": "execute_result"
    }
   ],
   "source": [
    "# Display summary statistics of the dataset\n",
    "data_summary = data.describe()\n",
    "data_summary"
   ]
  },
  {
   "cell_type": "code",
   "execution_count": 39,
   "id": "2bb2981e",
   "metadata": {},
   "outputs": [
    {
     "name": "stdout",
     "output_type": "stream",
     "text": [
      "Mean values for each churn group:\n",
      "       CreditScore      Age  Tenure       Balance  NumOfProducts  \\\n",
      "Churn                                                              \n",
      "-1        650.5288  38.9241  5.0128  76485.889288         1.5302   \n",
      "\n",
      "       EstimatedSalary  \n",
      "Churn                   \n",
      "-1       100074.744083  \n"
     ]
    }
   ],
   "source": [
    "data['Churn'] = pd.Categorical(data['Churn'], categories=['No', 'Yes'], ordered=True)\n",
    "data['Churn'] = data['Churn'].cat.codes\n",
    "\n",
    "# Select only numerical columns for aggregation\n",
    "numerical_columns = data.select_dtypes(include=['int64', 'float64']).columns\n",
    "\n",
    "# Group the data by the 'Churn' column and calculate the mean for each group\n",
    "summary_churn = data.groupby('Churn')[numerical_columns].mean()\n",
    "\n",
    "# Display the mean values for each group\n",
    "print(\"Mean values for each churn group:\")\n",
    "print(summary_churn)"
   ]
  },
  {
   "cell_type": "code",
   "execution_count": 40,
   "id": "7285acf9",
   "metadata": {},
   "outputs": [
    {
     "name": "stdout",
     "output_type": "stream",
     "text": [
      "Median values for each churn group:\n",
      "CreditScore           650.528800\n",
      "Age                    38.924100\n",
      "Tenure                  5.012800\n",
      "Balance             76485.889288\n",
      "NumOfProducts           1.530200\n",
      "EstimatedSalary    100074.744083\n",
      "dtype: float64\n"
     ]
    }
   ],
   "source": [
    "churn_median = summary_churn.median()\n",
    "\n",
    "# Display the median values for each churn group\n",
    "print(\"Median values for each churn group:\")\n",
    "print(churn_median)"
   ]
  },
  {
   "cell_type": "code",
   "execution_count": 42,
   "id": "1db45af0",
   "metadata": {},
   "outputs": [
    {
     "data": {
      "text/plain": [
       "Text(0, 0.5, 'No of Customers')"
      ]
     },
     "execution_count": 42,
     "metadata": {},
     "output_type": "execute_result"
    },
    {
     "data": {
      "image/png": "[encoded data removed]",
      "text/plain": [
       "<Figure size 1500x600 with 3 Axes>"
      ]
     },
     "metadata": {},
     "output_type": "display_data"
    }
   ],
   "source": [
    "# Create a subplots layout with 3 columns and a defined figure size\n",
    "f, axes = plt.subplots(ncols=3, figsize=(15, 6))\n",
    "\n",
    "# Plot the distribution of 'EstimatedSalary' in the first subplot\n",
    "sns.distplot(data.EstimatedSalary, kde=True, color=\"brown\", \\\n",
    "             ax=axes[0]).set_title('EstimatedSalary') \n",
    "axes[0].set_ylabel('No of Customers') \n",
    "\n",
    "# Plot the distribution of 'Age' in the second subplot\n",
    "sns.distplot(data.Age, kde=True, color=\"orange\", \\\n",
    "             ax=axes[1]).set_title('Age') \n",
    "axes[1].set_ylabel('No of Customers') \n",
    "\n",
    "# Plot the distribution of 'Balance' in the third subplot\n",
    "sns.distplot(data.Balance, kde=True, color=\"blue\", \\\n",
    "             ax=axes[2]).set_title('Balance') \n",
    "axes[2].set_ylabel('No of Customers') "
   ]
  },
  {
   "cell_type": "code",
   "execution_count": 43,
   "id": "2385eb63",
   "metadata": {},
   "outputs": [
    {
     "ename": "IndexError",
     "evalue": "list index out of range",
     "output_type": "error",
     "traceback": [
      "\u001b[0;31m---------------------------------------------------------------------------\u001b[0m",
      "\u001b[0;31mIndexError\u001b[0m                                Traceback (most recent call last)",
      "Cell \u001b[0;32mIn[43], line 14\u001b[0m\n\u001b[1;32m     12\u001b[0m legend_txt \u001b[38;5;241m=\u001b[39m legend\u001b[38;5;241m.\u001b[39mtexts \n\u001b[1;32m     13\u001b[0m legend_txt[\u001b[38;5;241m0\u001b[39m]\u001b[38;5;241m.\u001b[39mset_text(\u001b[38;5;124m\"\u001b[39m\u001b[38;5;124mNo Churn\u001b[39m\u001b[38;5;124m\"\u001b[39m) \n\u001b[0;32m---> 14\u001b[0m legend_txt[\u001b[38;5;241m1\u001b[39m]\u001b[38;5;241m.\u001b[39mset_text(\u001b[38;5;124m\"\u001b[39m\u001b[38;5;124mChurn\u001b[39m\u001b[38;5;124m\"\u001b[39m) \n\u001b[1;32m     16\u001b[0m \u001b[38;5;66;03m# Set the title for the plot\u001b[39;00m\n\u001b[1;32m     17\u001b[0m p\u001b[38;5;241m.\u001b[39mset_title(\u001b[38;5;124m'\u001b[39m\u001b[38;5;124mCustomer Churn Distribution by Gender\u001b[39m\u001b[38;5;124m'\u001b[39m)\n",
      "\u001b[0;31mIndexError\u001b[0m: list index out of range"
     ]
    },
    {
     "data": {
      "image/png": "[encoded data removed]",
      "text/plain": [
       "<Figure size 1500x400 with 1 Axes>"
      ]
     },
     "metadata": {},
     "output_type": "display_data"
    }
   ],
   "source": [
    "# Set the figure size for the plot\n",
    "plt.figure(figsize=(15,4)) \n",
    "\n",
    "# Create a countplot to visualize churn distribution by gender\n",
    "p = sns.countplot(y=\"Gender\", hue='Churn', data=data, \\\n",
    "                  palette=\"muted\") \n",
    "\n",
    "# Get the legend of the plot\n",
    "legend = p.get_legend() \n",
    "\n",
    "# Modify the legend text to represent 'No Churn' and 'Churn'\n",
    "legend_txt = legend.texts \n",
    "legend_txt[0].set_text(\"No Churn\") \n",
    "legend_txt[1].set_text(\"Churn\") \n",
    "\n",
    "# Set the title for the plot\n",
    "p.set_title('Customer Churn Distribution by Gender') "
   ]
  },
  {
   "cell_type": "code",
   "execution_count": 44,
   "id": "4713d7fc",
   "metadata": {},
   "outputs": [
    {
     "ename": "IndexError",
     "evalue": "list index out of range",
     "output_type": "error",
     "traceback": [
      "\u001b[0;31m---------------------------------------------------------------------------\u001b[0m",
      "\u001b[0;31mIndexError\u001b[0m                                Traceback (most recent call last)",
      "Cell \u001b[0;32mIn[44], line 14\u001b[0m\n\u001b[1;32m     12\u001b[0m legend_txt \u001b[38;5;241m=\u001b[39m legend\u001b[38;5;241m.\u001b[39mtexts \n\u001b[1;32m     13\u001b[0m legend_txt[\u001b[38;5;241m0\u001b[39m]\u001b[38;5;241m.\u001b[39mset_text(\u001b[38;5;124m\"\u001b[39m\u001b[38;5;124mNo Churn\u001b[39m\u001b[38;5;124m\"\u001b[39m) \n\u001b[0;32m---> 14\u001b[0m legend_txt[\u001b[38;5;241m1\u001b[39m]\u001b[38;5;241m.\u001b[39mset_text(\u001b[38;5;124m\"\u001b[39m\u001b[38;5;124mChurn\u001b[39m\u001b[38;5;124m\"\u001b[39m) \n\u001b[1;32m     16\u001b[0m \u001b[38;5;66;03m# Set the title for the plot\u001b[39;00m\n\u001b[1;32m     17\u001b[0m p\u001b[38;5;241m.\u001b[39mset_title(\u001b[38;5;124m'\u001b[39m\u001b[38;5;124mCustomer Geography Distribution\u001b[39m\u001b[38;5;124m'\u001b[39m)\n",
      "\u001b[0;31mIndexError\u001b[0m: list index out of range"
     ]
    },
    {
     "data": {
      "image/png": "[encoded data removed]",
      "text/plain": [
       "<Figure size 1500x400 with 1 Axes>"
      ]
     },
     "metadata": {},
     "output_type": "display_data"
    }
   ],
   "source": [
    "# Set the figure size for the plot\n",
    "plt.figure(figsize=(15,4)) \n",
    "\n",
    "# Create a countplot to visualize churn distribution by geography\n",
    "p = sns.countplot(x='Geography', hue='Churn', data=data, \\\n",
    "                  palette=\"bright\") \n",
    "\n",
    "# Get the legend of the plot\n",
    "legend = p.get_legend() \n",
    "\n",
    "# Modify the legend text to represent 'No Churn' and 'Churn'\n",
    "legend_txt = legend.texts \n",
    "legend_txt[0].set_text(\"No Churn\") \n",
    "legend_txt[1].set_text(\"Churn\") \n",
    "\n",
    "# Set the title for the plot\n",
    "p.set_title('Customer Geography Distribution') "
   ]
  },
  {
   "cell_type": "code",
   "execution_count": 45,
   "id": "bc248627",
   "metadata": {},
   "outputs": [
    {
     "ename": "IndexError",
     "evalue": "list index out of range",
     "output_type": "error",
     "traceback": [
      "\u001b[0;31m---------------------------------------------------------------------------\u001b[0m",
      "\u001b[0;31mIndexError\u001b[0m                                Traceback (most recent call last)",
      "Cell \u001b[0;32mIn[45], line 14\u001b[0m\n\u001b[1;32m     12\u001b[0m legend_txt \u001b[38;5;241m=\u001b[39m legend\u001b[38;5;241m.\u001b[39mtexts \n\u001b[1;32m     13\u001b[0m legend_txt[\u001b[38;5;241m0\u001b[39m]\u001b[38;5;241m.\u001b[39mset_text(\u001b[38;5;124m\"\u001b[39m\u001b[38;5;124mNo Churn\u001b[39m\u001b[38;5;124m\"\u001b[39m) \n\u001b[0;32m---> 14\u001b[0m legend_txt[\u001b[38;5;241m1\u001b[39m]\u001b[38;5;241m.\u001b[39mset_text(\u001b[38;5;124m\"\u001b[39m\u001b[38;5;124mChurn\u001b[39m\u001b[38;5;124m\"\u001b[39m) \n\u001b[1;32m     16\u001b[0m \u001b[38;5;66;03m# Set the title for the plot\u001b[39;00m\n\u001b[1;32m     17\u001b[0m p\u001b[38;5;241m.\u001b[39mset_title(\u001b[38;5;124m'\u001b[39m\u001b[38;5;124mCustomer Distribution by Product\u001b[39m\u001b[38;5;124m'\u001b[39m)\n",
      "\u001b[0;31mIndexError\u001b[0m: list index out of range"
     ]
    },
    {
     "data": {
      "image/png": "[encoded data removed]",
      "text/plain": [
       "<Figure size 1500x400 with 1 Axes>"
      ]
     },
     "metadata": {},
     "output_type": "display_data"
    }
   ],
   "source": [
    "# Set the figure size for the plot\n",
    "plt.figure(figsize=(15,4)) \n",
    "\n",
    "# Create a countplot to visualize churn distribution by number of products\n",
    "p = sns.countplot(x='NumOfProducts', hue='Churn', data=data, \\\n",
    "                  palette=\"Set1\")  # Using the \"Set2\" palette\n",
    "\n",
    "# Get the legend of the plot\n",
    "legend = p.get_legend() \n",
    "\n",
    "# Modify the legend text to represent 'No Churn' and 'Churn'\n",
    "legend_txt = legend.texts \n",
    "legend_txt[0].set_text(\"No Churn\") \n",
    "legend_txt[1].set_text(\"Churn\") \n",
    "\n",
    "# Set the title for the plot\n",
    "p.set_title('Customer Distribution by Product') "
   ]
  },
  {
   "cell_type": "code",
   "execution_count": null,
   "id": "caf5ac0c",
   "metadata": {},
   "outputs": [],
   "source": []
  }
 ],
 "metadata": {
  "kernelspec": {
   "display_name": "Python 3 (ipykernel)",
   "language": "python",
   "name": "python3"
  },
  "language_info": {
   "codemirror_mode": {
    "name": "ipython",
    "version": 3
   },
   "file_extension": ".py",
   "mimetype": "text/x-python",
   "name": "python",
   "nbconvert_exporter": "python",
   "pygments_lexer": "ipython3",
   "version": "3.11.4"
  }
 },
 "nbformat": 4,
 "nbformat_minor": 5
}
